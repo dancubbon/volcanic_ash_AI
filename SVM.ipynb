{
 "cells": [
  {
   "cell_type": "code",
   "execution_count": 25,
   "metadata": {
    "collapsed": true
   },
   "outputs": [],
   "source": [
    "import time\n",
    "import numpy as np\n",
    "import glob\n",
    "from matplotlib import pyplot as plt\n",
    "import random\n",
    "import sklearn\n",
    "from sklearn import svm\n",
    "from sklearn.model_selection import train_test_split\n",
    "from sklearn.metrics import ConfusionMatrixDisplay\n",
    "from sklearn.ensemble import AdaBoostClassifier\n",
    "from sklearn.ensemble import RandomForestClassifier\n",
    "from sklearn.ensemble import HistGradientBoostingClassifier\n",
    "import pickle\n",
    "from joblib import dump, load\n"
   ]
  },
  {
   "cell_type": "code",
   "execution_count": 26,
   "outputs": [
    {
     "name": "stdout",
     "output_type": "stream",
     "text": [
      "97 files found\n"
     ]
    }
   ],
   "source": [
    "data_dir = \"E:\\\\ICE_TRAINING\\\\\"\n",
    "file_list = glob.glob(data_dir + \"*90.npy\" )\n",
    "random.shuffle(file_list)\n",
    "#file_list = file_list[0:200]\n",
    "print(str(len(file_list)) + \" files found\")\n",
    "# parameters\n",
    "# batch_size = 100\n",
    "ash_ratio = 6\n",
    "n_features = 16\n",
    "ash_pixel_sample_size = 512\n",
    "feature_radius = 15\n"
   ],
   "metadata": {
    "collapsed": false,
    "pycharm": {
     "name": "#%%\n"
    }
   }
  },
  {
   "cell_type": "code",
   "execution_count": 27,
   "outputs": [],
   "source": [
    "def rescale(array):\n",
    "    mu = np.nanmean(array)\n",
    "    va = np.nanvar(array)\n",
    "    new_array = (array-mu)/va\n",
    "    return new_array\n",
    "\n",
    "def temperature_rescale(array):\n",
    "    return (array-200)/100.\n",
    "\n",
    "def reflectance_rescale(array):\n",
    "    return array/100.\n",
    "\n",
    "def get_local_matrix(indx,jndx,array,size): # returns matrix centred at indx, jndx of size size. cuts off at edge\n",
    "    array_shape = np.shape(array)\n",
    "    r1 = indx - size\n",
    "    r2 = indx + size + 1\n",
    "    c1 = jndx - size\n",
    "    c2 = jndx + size + 1\n",
    "    if r1 < 0:\n",
    "        r1 = 0\n",
    "    if c1 < 0:\n",
    "        c1 = 0\n",
    "    if r2 > array_shape[0]:\n",
    "        r2 = array_shape[0] + 1\n",
    "    if c2 > array_shape[0]:\n",
    "        c2 = array_shape[0] + 1\n",
    "\n",
    "    return array[r1:r2,c1:c2]"
   ],
   "metadata": {
    "collapsed": false,
    "pycharm": {
     "name": "#%%\n"
    }
   }
  },
  {
   "cell_type": "code",
   "execution_count": 28,
   "outputs": [],
   "source": [
    "# my_rand_matrix = np.zeros((20,20))\n",
    "# for w in range(20):\n",
    "#     for q in range(20):\n",
    "#         my_rand_matrix[w,q] = random.randint(0,100)\n",
    "# array_shape2 = np.shape(my_rand_matrix)\n",
    "# array_shape2_x = array_shape2[0]\n",
    "# my_local_matrix = get_local_matrix(18,18,my_rand_matrix,5)\n",
    "#"
   ],
   "metadata": {
    "collapsed": false,
    "pycharm": {
     "name": "#%%\n"
    }
   }
  },
  {
   "cell_type": "code",
   "execution_count": 29,
   "outputs": [
    {
     "data": {
      "text/plain": "<Figure size 432x288 with 1 Axes>",
      "image/png": "[encoded data removed]"
     },
     "metadata": {
      "needs_background": "light"
     },
     "output_type": "display_data"
    },
    {
     "name": "stdout",
     "output_type": "stream",
     "text": [
      "Number with under 256 ash pixels: 3\n",
      "Number with over 256 ash pixels: 94\n"
     ]
    }
   ],
   "source": [
    "def get_local_T11_max(i,j,array,radius):\n",
    "    try:\n",
    "        return np.nanmax(get_local_matrix(i,j,array,radius))\n",
    "    except ValueError:\n",
    "        ## print(\"Value Error Encountered in Calculating Max\")\n",
    "        return array[i,j]\n",
    "\n",
    "def get_local_T11_variance(i,j,array,radius): # this actually does std now to improve the spread of values\n",
    "    try:\n",
    "        return np.nanstd(get_local_matrix(i,j,array,radius))\n",
    "    except ValueError:\n",
    "        ## print(\"Value Error Encountered in Calculating Var\")\n",
    "        return 0.\n",
    "\n",
    "T11_max_feature = True\n",
    "T11_var_feature = True\n",
    "BTD_feature = True\n",
    "Time_feature = False\n",
    "Noise_feature = False\n",
    "\n",
    "if T11_max_feature:\n",
    "    n_features += 1\n",
    "if T11_var_feature:\n",
    "    n_features += 1\n",
    "if BTD_feature:\n",
    "    n_features += 1\n",
    "if Time_feature:\n",
    "    n_features += 1\n",
    "if Noise_feature:\n",
    "    n_features += 1\n",
    "\n",
    "super_sampled_train_data = np.zeros((len(file_list),(1+ash_ratio)*ash_pixel_sample_size,n_features))\n",
    "super_sampled_val_data = np.zeros((len(file_list),(1+ash_ratio)*ash_pixel_sample_size))\n",
    "ash_pixel_count_list = []\n",
    "\n",
    "for idx, file in enumerate(file_list):\n",
    "    file_data = np.load(file)\n",
    "    train_data = np.nan_to_num(file_data[128:384,128:384,:16])\n",
    "    val_data = np.nan_to_num(file_data[128:384,128:384,16])\n",
    "    # file_hour = int(file.split(\"_\")[1][:2])/24.\n",
    "    train_data_n = np.copy(train_data)\n",
    "    noise_matrix = np.random.rand(256,256)\n",
    "    # rescale everything\n",
    "    for j in range(0,6):\n",
    "        train_data_n[:,:,j] = reflectance_rescale(train_data[:,:,j])\n",
    "    for j in range(6,16):\n",
    "        train_data_n[:,:,j] = temperature_rescale(train_data[:,:,j])\n",
    "\n",
    "    # locate pixels inside polygon\n",
    "\n",
    "    ns,ms = np.where(val_data==1.0)\n",
    "    ash_pixel_count = len(ns)\n",
    "    ash_pixel_count_list.append(ash_pixel_count)\n",
    "\n",
    "    #locate pixels outside polygon\n",
    "\n",
    "    js,ks = np.where(val_data != 1.0)\n",
    "    not_ash_pixel_count = len(js)\n",
    "\n",
    "    if ash_pixel_count < ash_pixel_sample_size:\n",
    "\n",
    "        random_pixel_index_list = [x%ash_pixel_count for x in range(ash_pixel_sample_size)]\n",
    "        sample_ash_coords = [(ns[l],ms[l]) for l in random_pixel_index_list]\n",
    "\n",
    "        random_not_ash_pixel_list = random.sample(range(not_ash_pixel_count), ash_pixel_sample_size*ash_ratio)\n",
    "        sample_not_ash_coords = [(js[l],ks[l]) for l in random_not_ash_pixel_list]\n",
    "\n",
    "    elif not_ash_pixel_count < ash_ratio*ash_pixel_sample_size:\n",
    "\n",
    "        random_pixel_index_list = random.sample(range(ash_pixel_count), ash_pixel_sample_size)\n",
    "        sample_ash_coords = [(ns[l],ms[l]) for l in random_pixel_index_list]\n",
    "\n",
    "        random_not_ash_pixel_list = [x%ash_pixel_count for x in range(ash_ratio*ash_pixel_sample_size)]\n",
    "        sample_not_ash_coords = [(js[l],ks[l]) for l in random_not_ash_pixel_list]\n",
    "\n",
    "    else:\n",
    "        random_pixel_index_list = random.sample(range(ash_pixel_count), ash_pixel_sample_size)\n",
    "        sample_ash_coords = [(ns[l],ms[l]) for l in random_pixel_index_list]\n",
    "\n",
    "        random_not_ash_pixel_list = random.sample(range(not_ash_pixel_count), ash_pixel_sample_size*ash_ratio)\n",
    "        sample_not_ash_coords = [(js[l],ks[l]) for l in random_not_ash_pixel_list]\n",
    "\n",
    "\n",
    "\n",
    "\n",
    "    # initialise training and validation vectors\n",
    "\n",
    "    sampled_train_data = np.zeros(((1+ash_ratio)*ash_pixel_sample_size, n_features))\n",
    "    sampled_val_data = np.zeros((1+ash_ratio)*ash_pixel_sample_size)\n",
    "\n",
    "    for u in range(ash_pixel_sample_size):\n",
    "        ru = sample_ash_coords[u][0] # random ash row\n",
    "        cu = sample_ash_coords[u][1] # random ash column\n",
    "        sampled_train_data[u, :16] = train_data_n[ru, cu,:]\n",
    "        if T11_max_feature:\n",
    "            sampled_train_data[u, 16] = get_local_T11_max(ru, cu,train_data_n[:,:,14],2*feature_radius)\n",
    "        if T11_var_feature:\n",
    "            sampled_train_data[u, 17] = 100.*get_local_T11_variance(ru, cu,train_data_n[:,:,14],feature_radius)\n",
    "        if BTD_feature:\n",
    "            sampled_train_data[u, 18] = 10.*(train_data_n[ru,cu,13]-train_data_n[ru,cu,14])\n",
    "        if Noise_feature:\n",
    "            sampled_train_data[u,19] = noise_matrix[ru, cu]\n",
    "        sampled_val_data[u] = 1\n",
    "\n",
    "    for v in range(ash_ratio*ash_pixel_sample_size):\n",
    "        rv = sample_not_ash_coords[v][0] # random not ash row\n",
    "        cv = sample_not_ash_coords[v][1] # random not ash column\n",
    "        sampled_train_data[v+ash_pixel_sample_size,:16] = train_data_n[rv, cv, :]\n",
    "        if T11_max_feature:\n",
    "            sampled_train_data[v+ash_pixel_sample_size, 16] = get_local_T11_max(rv, cv, train_data_n[:,:,14], 2*feature_radius)\n",
    "        if T11_var_feature:\n",
    "            sampled_train_data[v+ash_pixel_sample_size, 17] = 100.*get_local_T11_variance(rv, cv,train_data_n[:,:,14],feature_radius)\n",
    "        if BTD_feature:\n",
    "            sampled_train_data[v+ash_pixel_sample_size, 18] = 10.*(train_data_n[rv,cv,13]-train_data_n[rv,cv,14])\n",
    "        if Noise_feature:\n",
    "            sampled_train_data[v+ash_pixel_sample_size,18] = noise_matrix[rv, cv]\n",
    "        sampled_val_data[v+ash_pixel_sample_size] = 0\n",
    "\n",
    "    super_sampled_val_data[idx, :] = sampled_val_data\n",
    "    super_sampled_train_data[idx] = sampled_train_data\n",
    "\n",
    "\n",
    "    #plt.imsave(\"poly_\" + str(idx) + \"_\" + str(ash_pixel_count )+ \".png\",val_data , cmap = \"binary\")\n",
    "    #plt.imsave(\"IR_\" + str(idx) + \".png\",train_data_n[:,:,15]-train_data_n[:,:,14] , cmap = \"RdBu\")\n",
    "bins = 2**(np.arange(2,12,0.5))\n",
    "plt.hist(ash_pixel_count_list,bins = bins)\n",
    "plt.xscale(\"log\")\n",
    "plt.show()\n",
    "\n",
    "print(\"Number with under 256 ash pixels: \" + str(len([x for x in ash_pixel_count_list if x<256])))\n",
    "print(\"Number with over 256 ash pixels: \" + str(len([x for x in ash_pixel_count_list if x>256])))\n",
    "\n",
    "\n"
   ],
   "metadata": {
    "collapsed": false,
    "pycharm": {
     "name": "#%%\n"
    }
   }
  },
  {
   "cell_type": "code",
   "execution_count": 30,
   "outputs": [
    {
     "name": "stdout",
     "output_type": "stream",
     "text": [
      "Commencing training...\n",
      "Training complete\n",
      "Time taken: 21.806137800216675s\n",
      "Confusion matrix, without normalization\n",
      "[[74043   512]\n",
      " [ 3946  8411]]\n",
      "Normalized confusion matrix\n",
      "[[0.993 0.007]\n",
      " [0.319 0.681]]\n"
     ]
    },
    {
     "data": {
      "text/plain": "<Figure size 432x288 with 2 Axes>",
      "image/png": "[encoded data removed]"
     },
     "metadata": {
      "needs_background": "light"
     },
     "output_type": "display_data"
    },
    {
     "data": {
      "text/plain": "<Figure size 432x288 with 2 Axes>",
      "image/png": "[encoded data removed]"
     },
     "metadata": {
      "needs_background": "light"
     },
     "output_type": "display_data"
    }
   ],
   "source": [
    "\n",
    "X = super_sampled_train_data.reshape(((1+ash_ratio)*ash_pixel_sample_size*len(file_list),n_features))\n",
    "y = super_sampled_val_data.reshape((1+ash_ratio)*ash_pixel_sample_size*len(file_list))\n",
    "# remove useless datapoints\n",
    "\n",
    "# useless_points = np.where(X[:,0]==0.0)\n",
    "#\n",
    "# print(\"Number of useless data points: \" + str(len(useless_points)))\n",
    "# for idx in useless_points[-1]:\n",
    "#     if idx%1000 == 0:\n",
    "#         print(idx)\n",
    "#     np.delete(X,idx,0)\n",
    "#     np.delete(y,idx,0)\n",
    "\n",
    "\n",
    "X_train, X_test, y_train, y_test = train_test_split(X, y, random_state=0)\n",
    "\n",
    "# Run classifier\n",
    "\n",
    "print(\"Commencing training...\")\n",
    "t0 = time.time()\n",
    "\n",
    "#classifier = svm.SVC(kernel=\"poly\", C=1,verbose = 1,\n",
    "                     #probability = True,cache_size=4000).fit(X_train, y_train)\n",
    "\n",
    "#classifier = AdaBoostClassifier(n_estimators=100,n_jobs = -1).fit(X_train, y_train)\n",
    "\n",
    "classifier = RandomForestClassifier(n_estimators=32).fit(X_train, y_train)\n",
    "\n",
    "#classifier = HistGradientBoostingClassifier(verbose = 1).fit(X_train, y_train)\n",
    "\n",
    "print(\"Training complete\")\n",
    "t1 = time.time()\n",
    "dt = t1-t0\n",
    "np.set_printoptions(precision=3)\n",
    "print(\"Time taken: \" +str(dt) + \"s\")\n",
    "\n",
    "titles_options = [\n",
    "    (\"Confusion matrix, without normalization\", None),\n",
    "    (\"Normalized confusion matrix\", \"true\"),\n",
    "]\n",
    "for title, normalize in titles_options:\n",
    "    disp = ConfusionMatrixDisplay.from_estimator(\n",
    "        classifier,\n",
    "        X_test,\n",
    "        y_test,\n",
    "        cmap=plt.cm.Blues,\n",
    "        normalize=normalize,\n",
    "    )\n",
    "    disp.ax_.set_title(title)\n",
    "\n",
    "    print(title)\n",
    "    print(disp.confusion_matrix)\n",
    "\n",
    "plt.show()\n"
   ],
   "metadata": {
    "collapsed": false,
    "pycharm": {
     "name": "#%%\n"
    }
   }
  },
  {
   "cell_type": "code",
   "execution_count": 31,
   "outputs": [],
   "source": [
    "Test = False\n",
    "# Lets test it\n",
    "if Test:\n",
    "    test_dir = \"D:\\\\Small_Test\\\\\"\n",
    "    test_file_list = glob.glob(test_dir + \"*.npy\" )\n",
    "\n",
    "    for idx, file in enumerate(test_file_list):\n",
    "        print(\"Processing file \" + str(idx+1) + \" of \" + str(len(test_file_list)))\n",
    "        file_data = np.load(file)\n",
    "        train_data = np.nan_to_num(file_data[:,:,:16])\n",
    "        val_data = np.nan_to_num(file_data[:,:,16])\n",
    "        train_data_n = np.copy(train_data)\n",
    "\n",
    "        # rescale everything\n",
    "        for j in range(0,6):\n",
    "            train_data_n[:,:,j] = reflectance_rescale(train_data[:,:,j])\n",
    "        for j in range(6,16):\n",
    "            train_data_n[:,:,j] = temperature_rescale(train_data[:,:,j])\n",
    "        predict_data = np.zeros((512,512))\n",
    "        t0 = time.time()\n",
    "        for a in range(512):\n",
    "            if a in range(0,512,16):\n",
    "                print(str(np.round((100*(a)/512),2)) + \" % complete\")\n",
    "            for b in range(512):\n",
    "                empty_data = np.zeros(n_features)\n",
    "                band_values = train_data_n[a,b,:]\n",
    "                empty_data[:16] = band_values\n",
    "                if T11_max_feature:\n",
    "                    empty_data[16] = get_local_T11_max(a,b,train_data_n[:,:,14],2*feature_radius)\n",
    "                if T11_var_feature:\n",
    "                    empty_data[17] = 100.*get_local_T11_variance(a,b,train_data_n[:,:,14],feature_radius)\n",
    "                if BTD_feature:\n",
    "                    empty_data[18] = 10.*(train_data_n[a,b,13]-train_data_n[a,b,14])\n",
    "                if Noise_feature:\n",
    "                    empty_data[19] = random.uniform(0,1)\n",
    "                classify_vector = empty_data.reshape(1,-1)\n",
    "                prob = classifier.predict_proba(classify_vector)\n",
    "                predict_data[a,b] = prob[0][0]\n",
    "        t1 = time.time()\n",
    "        dt = t1 - t0\n",
    "        print(\"Time taken: \" +str(np.round(dt,2)) + \"s\")\n",
    "        d_len = len(data_dir)\n",
    "        file_tag = file[14:]\n",
    "\n",
    "        plt.imsave(\"poly_\" + str(idx) + \"_\" + str(file_tag) + \"_.png\",val_data , cmap = \"binary\")\n",
    "        # predict_data[0,0] = 1.0  # this is for scaling purposes\n",
    "        # predict_data[-1,-1] = 0.0\n",
    "        plt.imsave(\"predict_proba_\" + str(idx) + \"_\" + str(file_tag) + \"_random_forest\" +  \"_.png\",predict_data , cmap = \"seismic\" )\n",
    "        plt.imsave(\"IR_\" + str(idx) + \"_\" + str(file_tag) + \".png\",train_data_n[:,:,14] , cmap = \"binary\")\n",
    "        plt.imsave(\"BTD_\" + str(idx) +\"_\" + str(file_tag) + \".png\",train_data[:,:,13]-train_data[:,:,14] , cmap = \"seismic\")\n"
   ],
   "metadata": {
    "collapsed": false,
    "pycharm": {
     "name": "#%%\n"
    }
   }
  },
  {
   "cell_type": "code",
   "execution_count": 32,
   "outputs": [
    {
     "data": {
      "text/plain": "<Figure size 432x288 with 1 Axes>",
      "image/png": "[encoded data removed]"
     },
     "metadata": {
      "needs_background": "light"
     },
     "output_type": "display_data"
    }
   ],
   "source": [
    "model_name = \"RF_ice_nishi_32.sav\"\n",
    "pickle.dump(classifier,open(model_name,\"wb\"))\n",
    "\n",
    "\n",
    "importances = list(np.round(classifier.feature_importances_,3))\n",
    "bands = [str(x) for x in range(1,17)]\n",
    "band_labels = [\"455nm\", \"510nm\", \"645nm\", \"860nm\", \"1610nm\",\n",
    "               \"2260nm\", \"3.85um\",\"6.25um\", \"6.95um\", \"7.35um\",\n",
    "               \"8.60um\", \"9.63um\", \"10.45um\", \"11.20um\",\n",
    "               \"12.35um\", \"13.30um\", \"T11_max\",\"T11_var\",\"11_12_BTD\"] # \"noise\"]\n",
    "# for idx, g in enumerate(importances):\n",
    "#     print(str(bands[idx]) + \": \" + str(g))\n",
    "\n",
    "plt.bar(band_labels,importances)\n",
    "plt.xticks(band_labels,rotation = \"vertical\")\n",
    "plt.ylabel(\"Relative Importances\")\n",
    "plt.xlabel(\"Features\")\n",
    "plt.show()"
   ],
   "metadata": {
    "collapsed": false,
    "pycharm": {
     "name": "#%%\n"
    }
   }
  },
  {
   "cell_type": "code",
   "execution_count": 33,
   "outputs": [
    {
     "name": "stdout",
     "output_type": "stream",
     "text": [
      "Elapsed time to compute the importances: 58.247 seconds\n"
     ]
    }
   ],
   "source": [
    "from sklearn.inspection import permutation_importance\n",
    "\n",
    "start_time = time.time()\n",
    "result = permutation_importance(\n",
    "    classifier, X_test, y_test, n_repeats=10, random_state=42, n_jobs=2\n",
    ")\n",
    "elapsed_time = time.time() - start_time\n",
    "print(f\"Elapsed time to compute the importances: {elapsed_time:.3f} seconds\")"
   ],
   "metadata": {
    "collapsed": false,
    "pycharm": {
     "name": "#%%\n"
    }
   }
  },
  {
   "cell_type": "code",
   "execution_count": 34,
   "outputs": [
    {
     "data": {
      "text/plain": "<Figure size 432x288 with 1 Axes>",
      "image/png": "[encoded data removed]"
     },
     "metadata": {
      "needs_background": "light"
     },
     "output_type": "display_data"
    }
   ],
   "source": [
    "import pandas as pd\n",
    "forest_importances = pd.Series(result.importances_mean,index = band_labels)\n",
    "fig, ax = plt.subplots()\n",
    "forest_importances.plot.bar(yerr=result.importances_std, ax=ax)\n",
    "ax.set_title(\"Feature importances using permutation on full model\")\n",
    "ax.set_ylabel(\"Mean accuracy decrease\")\n",
    "fig.tight_layout()\n",
    "plt.show()"
   ],
   "metadata": {
    "collapsed": false,
    "pycharm": {
     "name": "#%%\n"
    }
   }
  },
  {
   "cell_type": "code",
   "execution_count": 35,
   "outputs": [],
   "source": [
    "#dec_path = classifier.decision_path(X_test[20,:].reshape(1,-1))\n",
    "# estimator = classifier.estimators_[5]\n",
    "# from sklearn import tree\n",
    "# tree.export_graphviz(estimator, out_file = \"my_tree.dot\")"
   ],
   "metadata": {
    "collapsed": false,
    "pycharm": {
     "name": "#%%\n"
    }
   }
  },
  {
   "cell_type": "code",
   "execution_count": 36,
   "outputs": [],
   "source": [
    "from skimage.restoration import (denoise_tv_chambolle, denoise_bilateral,\n",
    "                                 denoise_wavelet, estimate_sigma)\n",
    "from skimage import data, img_as_float\n",
    "from matplotlib import pyplot as plt\n",
    "import glob\n",
    "# img_list = glob.glob(f\"D:\\\\NISHINOSHIMA_IMAGES\\\\predict_proba*.png\")\n",
    "# for img_name in img_list:\n",
    "#     img = plt.imread(img_name)\n",
    "#     img_denoised = denoise_tv_chambolle(img[:,:,2])\n",
    "#     img_denoised_scaled = 255*img_denoised\n",
    "#     img_thresholded = 255*np.sign(img[:,:,2]-0.6)\n",
    "#     plt.imsave(f\"{img_name[:len(img_name)-3]}_masked.png\",img_thresholded,cmap = \"Oranges\")\n",
    "#\n"
   ],
   "metadata": {
    "collapsed": false,
    "pycharm": {
     "name": "#%%\n"
    }
   }
  }
 ],
 "metadata": {
  "kernelspec": {
   "display_name": "Python 3",
   "language": "python",
   "name": "python3"
  },
  "language_info": {
   "codemirror_mode": {
    "name": "ipython",
    "version": 2
   },
   "file_extension": ".py",
   "mimetype": "text/x-python",
   "name": "python",
   "nbconvert_exporter": "python",
   "pygments_lexer": "ipython2",
   "version": "2.7.6"
  }
 },
 "nbformat": 4,
 "nbformat_minor": 0
}